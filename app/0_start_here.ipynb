{
 "cells": [
  {
   "cell_type": "markdown",
   "metadata": {},
   "source": [
    "# Running an application\n",
    "\n",
    "Now that we have developed our machine learning model in notebooks, we want to deploy it as a service. The purpose is to allow data science exploration to easily transition into deployed services and applications on the OpenShift platform.  After saving this project to git, it can be built on the OpenShift platform to serve models.\n",
    "\n",
    "\n",
    "There are a lot of files in this folder. We will only need to edit the noteboks, but here's insight into what each of these files do: \n",
    "\n",
    "### Project Organization\n",
    "```\n",
    ".\n",
    "├── README.md\n",
    "├── LICENSE\n",
    "├── requirements.txt        <- Used to install packages for s2i application\n",
    "├── 0_start_here.ipynb      <- Instructional notebook\n",
    "├── 1_run_flask.ipynb       <- Notebook for running flask locally to test\n",
    "├── 2_test_flask.ipynb      <- Notebook for testing flask requests\n",
    "├── .gitignore              <- standard python gitignore\n",
    "├── .s2i                    <- hidden folder for advanced s2i configuration\n",
    "│   └── environment         <- s2i environment settings\n",
    "├── gunicorn_config.py      <- configuration for gunicorn when run in OpenShift\n",
    "├── prediction.py           <- the predict function called from Flask\n",
    "└── wsgi.py                 <- basic Flask application\n",
    "```\n",
    "\n",
    "We will use a source to image build, also known as s2i, to deploy the model service, but first let's practice running the service in a notebook: "
   ]
  },
  {
   "cell_type": "markdown",
   "metadata": {},
   "source": [
    "## Install Dependencies"
   ]
  },
  {
   "cell_type": "code",
   "execution_count": 1,
   "metadata": {
    "cellView": "both",
    "id": "KUu4vOt5zI9d"
   },
   "outputs": [
    {
     "name": "stdout",
     "output_type": "stream",
     "text": [
      "Requirement already satisfied: cython in /opt/app-root/lib/python3.9/site-packages (0.29.34)\n",
      "Requirement already satisfied: Flask in /opt/app-root/lib/python3.9/site-packages (from -r requirements.txt (line 1)) (2.3.2)\n",
      "Requirement already satisfied: gunicorn in /opt/app-root/lib/python3.9/site-packages (from -r requirements.txt (line 2)) (20.1.0)\n",
      "Requirement already satisfied: joblib==1.1.1 in /opt/app-root/lib/python3.9/site-packages (from -r requirements.txt (line 3)) (1.1.1)\n",
      "Requirement already satisfied: numpy==1.21.1 in /opt/app-root/lib/python3.9/site-packages (from -r requirements.txt (line 4)) (1.21.1)\n",
      "Requirement already satisfied: scipy==1.7.1 in /opt/app-root/lib/python3.9/site-packages (from -r requirements.txt (line 5)) (1.7.1)\n",
      "Requirement already satisfied: threadpoolctl==2.0.0 in /opt/app-root/lib/python3.9/site-packages (from -r requirements.txt (line 6)) (2.0.0)\n",
      "Requirement already satisfied: pandas==1.3.2 in /opt/app-root/lib/python3.9/site-packages (from -r requirements.txt (line 7)) (1.3.2)\n",
      "Requirement already satisfied: scikit-learn==0.22.1 in /opt/app-root/lib/python3.9/site-packages (from -r requirements.txt (line 8)) (0.22.1)\n",
      "Requirement already satisfied: pyarrow==12.0.0 in /opt/app-root/lib/python3.9/site-packages (from -r requirements.txt (line 9)) (12.0.0)\n",
      "Requirement already satisfied: cloudpickle==2.0.0 in /opt/app-root/lib/python3.9/site-packages (from -r requirements.txt (line 10)) (2.0.0)\n",
      "Requirement already satisfied: Cmake==3.26.3 in /opt/app-root/lib/python3.9/site-packages (from -r requirements.txt (line 11)) (3.26.3)\n",
      "Requirement already satisfied: python-dateutil>=2.7.3 in /opt/app-root/lib/python3.9/site-packages (from pandas==1.3.2->-r requirements.txt (line 7)) (2.8.2)\n",
      "Requirement already satisfied: pytz>=2017.3 in /opt/app-root/lib/python3.9/site-packages (from pandas==1.3.2->-r requirements.txt (line 7)) (2022.7.1)\n",
      "Requirement already satisfied: Werkzeug>=2.3.3 in /opt/app-root/lib/python3.9/site-packages (from Flask->-r requirements.txt (line 1)) (2.3.4)\n",
      "Requirement already satisfied: Jinja2>=3.1.2 in /opt/app-root/lib/python3.9/site-packages (from Flask->-r requirements.txt (line 1)) (3.1.2)\n",
      "Requirement already satisfied: itsdangerous>=2.1.2 in /opt/app-root/lib/python3.9/site-packages (from Flask->-r requirements.txt (line 1)) (2.1.2)\n",
      "Requirement already satisfied: click>=8.1.3 in /opt/app-root/lib/python3.9/site-packages (from Flask->-r requirements.txt (line 1)) (8.1.3)\n",
      "Requirement already satisfied: blinker>=1.6.2 in /opt/app-root/lib/python3.9/site-packages (from Flask->-r requirements.txt (line 1)) (1.6.2)\n",
      "Requirement already satisfied: importlib-metadata>=3.6.0 in /opt/app-root/lib/python3.9/site-packages (from Flask->-r requirements.txt (line 1)) (6.1.0)\n",
      "Requirement already satisfied: setuptools>=3.0 in /opt/app-root/lib/python3.9/site-packages (from gunicorn->-r requirements.txt (line 2)) (67.6.0)\n",
      "Requirement already satisfied: zipp>=0.5 in /opt/app-root/lib/python3.9/site-packages (from importlib-metadata>=3.6.0->Flask->-r requirements.txt (line 1)) (3.15.0)\n",
      "Requirement already satisfied: MarkupSafe>=2.0 in /opt/app-root/lib/python3.9/site-packages (from Jinja2>=3.1.2->Flask->-r requirements.txt (line 1)) (2.1.2)\n",
      "Requirement already satisfied: six>=1.5 in /opt/app-root/lib/python3.9/site-packages (from python-dateutil>=2.7.3->pandas==1.3.2->-r requirements.txt (line 7)) (1.16.0)\n"
     ]
    }
   ],
   "source": [
    "import sys\n",
    "!python -m pip install --upgrade cython\n",
    "!{sys.executable} -m pip install -r requirements.txt"
   ]
  },
  {
   "cell_type": "markdown",
   "metadata": {},
   "source": [
    "## Experiment\n",
    "\n",
    "Experiment with data and create your prediction function.  Create any serialized models needed."
   ]
  },
  {
   "cell_type": "code",
   "execution_count": 2,
   "metadata": {},
   "outputs": [],
   "source": [
    "import cloudpickle as cp\n",
    "import pandas as pd\n",
    "\n",
    "pipeline = cp.load(open('pipeline.pkl', 'rb'))"
   ]
  },
  {
   "cell_type": "code",
   "execution_count": 3,
   "metadata": {},
   "outputs": [],
   "source": [
    "def predict(args_dict):\n",
    "\n",
    "    d = {'timestamp':0, 'label':0, 'user_id': args_dict.get('user_id'), 'amount': args_dict.get('amount'), 'merchant_id': args_dict.get('merchant_id'), 'trans_type': args_dict.get('trans_type'), 'foreign': args_dict.get('foreign'), 'interarrival': args_dict.get('interarrival')}\n",
    "    \n",
    "    df = pd.DataFrame(d, index=[0])\n",
    "    prediction = pipeline.predict(df)[0]\n",
    "\n",
    "    return {'prediction': prediction}"
   ]
  },
  {
   "cell_type": "code",
   "execution_count": 4,
   "metadata": {},
   "outputs": [
    {
     "data": {
      "text/plain": [
       "{'prediction': 'legitimate'}"
      ]
     },
     "execution_count": 4,
     "metadata": {},
     "output_type": "execute_result"
    }
   ],
   "source": [
    "my_req = {\"user_id\": 1698, \"amount\": 7915, \"merchant_id\": 22.37, \"trans_type\": \"contactless\", \"foreign\": \"False\", \"interarrival\": 9609}\n",
    "\n",
    "predict(my_req)"
   ]
  },
  {
   "cell_type": "markdown",
   "metadata": {},
   "source": [
    "## Create a Predict Function\n",
    "\n",
    "Now that we are certain our prediction function is working, we can go ahead and add it to the prediction.py file. We've already done this for you, but go take a look and make sure you see what's happening. \n",
    "\n",
    "Also, make sure `requirements.txt` is updated with any additional packages you've used and need for prediction."
   ]
  },
  {
   "cell_type": "markdown",
   "metadata": {},
   "source": [
    "## Test Predict Function"
   ]
  },
  {
   "cell_type": "code",
   "execution_count": 5,
   "metadata": {},
   "outputs": [
    {
     "data": {
      "text/plain": [
       "{'prediction': 'legitimate'}"
      ]
     },
     "execution_count": 5,
     "metadata": {},
     "output_type": "execute_result"
    }
   ],
   "source": [
    "from prediction import predict\n",
    "\n",
    "\n",
    "my_req = {\"user_id\": 1698, \"amount\": 7915, \"merchant_id\": 22.37, \"trans_type\": \"contactless\", \"foreign\": \"False\", \"interarrival\": 9609}\n",
    "\n",
    "predict(my_req)\n",
    "\n"
   ]
  },
  {
   "cell_type": "markdown",
   "metadata": {
    "tags": []
   },
   "source": [
    "## Try to get a prediction of fraud\n",
    "\n",
    "Now, try it again, but this time, change the values until the prediction returns **fraud** instead of **legitimate**. "
   ]
  },
  {
   "cell_type": "code",
   "execution_count": 25,
   "metadata": {},
   "outputs": [
    {
     "data": {
      "text/plain": [
       "{'prediction': 'fraud'}"
      ]
     },
     "execution_count": 25,
     "metadata": {},
     "output_type": "execute_result"
    }
   ],
   "source": [
    "other_req = {\"user_id\": 2222, \n",
    "             \"amount\": 50.89, \n",
    "             \"merchant_id\": 33.3, \n",
    "             \"trans_type\": \"online\", \n",
    "             \"foreign\": \"True\", \n",
    "             \"interarrival\": 999}\n",
    "\n",
    "predict(other_req)"
   ]
  },
  {
   "cell_type": "code",
   "execution_count": null,
   "metadata": {},
   "outputs": [],
   "source": []
  }
 ],
 "metadata": {
  "accelerator": "GPU",
  "colab": {
   "collapsed_sections": [],
   "name": "Object detection",
   "private_outputs": true,
   "provenance": [],
   "toc_visible": true
  },
  "kernelspec": {
   "display_name": "Python 3.9.14",
   "language": "python",
   "name": "python3"
  },
  "language_info": {
   "codemirror_mode": {
    "name": "ipython",
    "version": 3
   },
   "file_extension": ".py",
   "mimetype": "text/x-python",
   "name": "python",
   "nbconvert_exporter": "python",
   "pygments_lexer": "ipython3",
   "version": "3.9.14"
  }
 },
 "nbformat": 4,
 "nbformat_minor": 4
}
