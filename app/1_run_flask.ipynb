{
 "cells": [
  {
   "cell_type": "markdown",
   "metadata": {},
   "source": [
    "## Run Flask\n",
    "\n",
    "Our application developer set us up a flask app, which loads the pipeline and makes predictions using the prediction.py. In this notebook, we run the flask app from inside the notebook, and we will test it in the next notebook: "
   ]
  },
  {
   "cell_type": "markdown",
   "metadata": {},
   "source": [
    "Ensure the Pre-reqs are installed, but do so \"quietly\""
   ]
  },
  {
   "cell_type": "code",
   "execution_count": 1,
   "metadata": {},
   "outputs": [],
   "source": [
    "import sys\n",
    "!{sys.executable} -m pip install -r requirements.txt --quiet"
   ]
  },
  {
   "cell_type": "markdown",
   "metadata": {},
   "source": [
    "Run your flask app (`wsgi.py`) from here and test it from a separate notebook."
   ]
  },
  {
   "cell_type": "code",
   "execution_count": null,
   "metadata": {},
   "outputs": [
    {
     "name": "stdout",
     "output_type": "stream",
     "text": [
      " * Serving Flask app 'wsgi.py'\n",
      " * Debug mode: off\n",
      "\u001b[31m\u001b[1mWARNING: This is a development server. Do not use it in a production deployment. Use a production WSGI server instead.\u001b[0m\n",
      " * Running on http://127.0.0.1:5000\n",
      "\u001b[33mPress CTRL+C to quit\u001b[0m\n",
      "127.0.0.1 - - [24/May/2023 13:39:00] \"GET /status HTTP/1.1\" 200 -\n",
      "127.0.0.1 - - [24/May/2023 13:39:01] \"POST /predictions HTTP/1.1\" 200 -\n",
      "127.0.0.1 - - [24/May/2023 13:39:21] \"POST /predictions HTTP/1.1\" 200 -\n",
      "127.0.0.1 - - [24/May/2023 13:39:24] \"POST /predictions HTTP/1.1\" 200 -\n",
      "127.0.0.1 - - [24/May/2023 13:39:33] \"POST /predictions HTTP/1.1\" 200 -\n",
      "127.0.0.1 - - [24/May/2023 13:39:44] \"POST /predictions HTTP/1.1\" 200 -\n"
     ]
    }
   ],
   "source": [
    "!FLASK_ENV=development FLASK_APP=wsgi.py flask run"
   ]
  },
  {
   "cell_type": "markdown",
   "metadata": {},
   "source": [
    "Leave the notebook cell above running (in the [*] state) and move on to the next notebook, [2_test_flask.ipynb](2_test_flask.ipynb) to interact with the flask service."
   ]
  }
 ],
 "metadata": {
  "kernelspec": {
   "display_name": "Python 3.9.14",
   "language": "python",
   "name": "python3"
  },
  "language_info": {
   "codemirror_mode": {
    "name": "ipython",
    "version": 3
   },
   "file_extension": ".py",
   "mimetype": "text/x-python",
   "name": "python",
   "nbconvert_exporter": "python",
   "pygments_lexer": "ipython3",
   "version": "3.9.14"
  }
 },
 "nbformat": 4,
 "nbformat_minor": 4
}
