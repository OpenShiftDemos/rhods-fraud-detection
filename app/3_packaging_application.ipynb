{
 "cells": [
  {
   "cell_type": "markdown",
   "id": "a31dd904",
   "metadata": {},
   "source": [
    "# Packaging our Application \n",
    "\n",
    "Now that the application code is working, we’re ready to package it as a container image, and have it running directly into OpenShift as a service you will be able to call from any other application.\n",
    "\n",
    "Note: the application code is available in the same repo we’ve been using before, but in the app folder. \n",
    "\n",
    "The main parts are:\n",
    "* [requirements.txt](requirements.txt) contains the list of python packages to use when building the container image\n",
    "* [wsgi.py](wsgi.py) is the entrypoint for the web application (using flask). It calls the content of `prediction.py`\n",
    "* [gunicorn_config.py](gunicorn_config.py) specifies some parameters of that application \n",
    "* [prediction.py](prediction.py) contains the python function that calls the model\n",
    "* [pipeline.pkl](pipeline.pkl) is the model that was trained by the data scientist"
   ]
  },
  {
   "cell_type": "markdown",
   "id": "50aaaf81",
   "metadata": {},
   "source": [
    "# Building the application inside OpenShift\n",
    "In the browser tab where you have your username, password, lab instructions, and other details, find the \"OpenShift Console\" URL. Click it and log in to the OpenShift web console using the username and password provided. When you first log in, you will probably want to click the \"Skip Tour\" button.\n",
    "\n",
    "Next, make sure you are select the developer context (by clicking the drop-down menu at the top left):\n",
    "\n",
    "![alt text](images/dev_view.png \"Title\")"
   ]
  },
  {
   "cell_type": "markdown",
   "id": "f578dacb",
   "metadata": {},
   "source": [
    "Your JupyterHub Notebook is running in a special project managed by the Red Hat OpenShift Data Science Operator. You don't have access to that project, so you can't see it. To build and deploy your own model container image, you will need an OpenShift Project that you can see and manage.\n",
    "\n",
    "**READ THE FOLLOWING SLOWLY**\n",
    "\n",
    "* If you are using the Sandbox Environment, you will not be able to create a new project. \n",
    "  * Instead, You will see two projects called `<your_user>-dev` and `<your_user>-stage`.\n",
    "  * Choose either one\n",
    "* If you are using another environment, you should be able to create a new project. \n",
    "  * Click the \"Project\" drop down and then \"Create Project.\" \n",
    "  * Enter your username and append `-model` to the project name. \n",
    "    (For example, if you are `userX`, you will want to call your project `userX-model`.)\n",
    "  * **MAKE SURE THAT YOU USE YOUR ACTUAL USERNAME AND NOT USERX**\n",
    "\n",
    "![alt text](images/select_project.png \"Title\")"
   ]
  },
  {
   "cell_type": "markdown",
   "id": "0ba12771",
   "metadata": {},
   "source": [
    "Once you have created your project, make sure that you see it in the dropdown. If for some reason you do not see it, click the Project dropdown and select it.\n",
    "\n",
    "Next, click \"+Add\", and then click the \"From Git\" card:\n",
    "\n",
    "![alt text](images/from_git.png \"Title\")"
   ]
  },
  {
   "cell_type": "markdown",
   "id": "0b730292",
   "metadata": {},
   "source": [
    "* In the `Git Repo URL` field, enter: `https://github.com/OpenShiftDemos/rhods-fraud-detection`\n",
    "\n",
    "* Under `Show Advanced Git Options`, make sure the `Git reference` is blank, and set `Context dir` to `/app`.\n",
    "\n",
    "* By default, the Import Stategy will use **Python 3.9 (UBI 8)**. \n",
    "\n",
    "  * Do not let it use this. \n",
    "  * instead, click on **Edit Import Strategy** and\n",
    "  * Select **Python 3.8 (UBI 8)**\n",
    "\n",
    "\n",
    "* Leave all other settings the same, and scroll to the bottom of the options and click 'Create'. \n",
    "\n",
    "The automated building process will take a few minutes. Some Alerts may appear if OpenShift tries to deploy the image while the build is still running, but that’s OK. This is because, until the build completes, it can't find the image -- it wasn't created yet! Ultimately, OpenShift will deploy the application (model image). You will know that it is deployed because the topology icon will change from a light blue to a darker blue ring.\n",
    "\n",
    "Click on the Deployment:\n",
    "\n",
    "![topology iconography](images/model_topology.png \"Model Topology\")\n",
    "\n",
    "If you scroll down on the detail panel, you will see the route that was created for your application:\n",
    "\n",
    "![route](images/route.png \"Route\")\n",
    "\n",
    " This is the URL you will use to send data for prediction. Copy and paste the URL into the cell below and then run the cell. You will get a prediction back. Your model is serving predictions from inside a container inside the OpenShift cluster!\n"
   ]
  },
  {
   "cell_type": "code",
   "execution_count": null,
   "id": "a887e581",
   "metadata": {},
   "outputs": [],
   "source": [
    "## YOU MUST PASTE YOUR OWN ROUTE INFORMATION HERE\n",
    "my_route = 'http://CHANGE.URL.TO.YOUR.ROUTE'\n",
    "## YOU MUST PASTE YOUR OWN ROUTE INFORMATION HERE\n",
    "\n",
    "\n",
    "import requests\n",
    "my_req = '{\"user_id\": 1698, \"amount\": 7915, \"merchant_id\": 22.37, \"trans_type\": \"contactless\", \"foreign\": \"False\", \"interarrival\": 9609}'\n",
    "\n",
    "response = requests.post(my_route + '/predictions', my_req)\n",
    "response.json()"
   ]
  },
  {
   "cell_type": "markdown",
   "id": "429b633a-402f-495a-900b-64f89351e7a1",
   "metadata": {},
   "source": [
    "Congratulations! You've learned how to go from experimentation in a notebook through to a service you can interact with through an endpoint. \n",
    "\n",
    "To find out more about Red Hat OpenShift Data Science and the tools and services you used today, take a look at the following links: \n",
    "\n",
    "\n",
    "- [Red Hat OpenShift Data Science website](https://www.redhat.com/en/technologies/cloud-computing/openshift/openshift-data-science)\n",
    "- [Red Hat OpenShift Data Science Blog Post](https://www.redhat.com/en/blog/introducing-red-hat-openshift-data-science)\n",
    "\n",
    "\n",
    "Reach out to your account representitive to find out more."
   ]
  }
 ],
 "metadata": {
  "kernelspec": {
   "display_name": "Python 3 (ipykernel)",
   "language": "python",
   "name": "python3"
  },
  "language_info": {
   "codemirror_mode": {
    "name": "ipython",
    "version": 3
   },
   "file_extension": ".py",
   "mimetype": "text/x-python",
   "name": "python",
   "nbconvert_exporter": "python",
   "pygments_lexer": "ipython3",
   "version": "3.8.8"
  }
 },
 "nbformat": 4,
 "nbformat_minor": 5
}
